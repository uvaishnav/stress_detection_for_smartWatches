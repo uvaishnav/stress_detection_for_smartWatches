{
 "cells": [
  {
   "cell_type": "code",
   "execution_count": 1,
   "metadata": {},
   "outputs": [],
   "source": [
    "import sys\n",
    "sys.path.append('../src')  # Add source directory to path"
   ]
  },
  {
   "cell_type": "code",
   "execution_count": 2,
   "metadata": {},
   "outputs": [],
   "source": [
    "from signal_processing.base_signal_processor import BaseSignalProcessor\n",
    "from signal_processing.motion_artifact_detector import MotionArtifactDetector\n",
    "from signal_processing.adaptive_filter import AdaptiveFilter\n",
    "from signal_processing.kalman_filter import KalmanFilter\n",
    "from signal_processing.wavelet_denoiser import WaveletDenoiser\n",
    "from signal_processing.pipeline import SignalProcessingPipeline"
   ]
  },
  {
   "cell_type": "markdown",
   "metadata": {},
   "source": [
    "### Loading Unified Data"
   ]
  },
  {
   "cell_type": "code",
   "execution_count": 3,
   "metadata": {},
   "outputs": [
    {
     "name": "stdout",
     "output_type": "stream",
     "text": [
      "Loading unified dataset...\n",
      "                                 bvp  label  subject_id    dataset  \\\n",
      "2020-01-03 08:00:00+00:00   5.673109      0           2  physionet   \n",
      "2020-01-03 08:00:00+00:00   7.687833      0           2  physionet   \n",
      "2020-01-03 08:00:00+00:00   1.509560      0           2  physionet   \n",
      "2020-01-03 08:00:00+00:00  12.999866      0           2  physionet   \n",
      "2020-01-03 08:00:00+00:00  20.798602      0           2  physionet   \n",
      "\n",
      "                                 device skin_tone  noise_level     acc_x  \\\n",
      "2020-01-03 08:00:00+00:00   apple_watch      V-VI      0.05088 -0.817685   \n",
      "2020-01-03 08:00:00+00:00   apple_watch      I-II      0.07712 -0.973498   \n",
      "2020-01-03 08:00:00+00:00   apple_watch    III-IV      0.06400 -1.054134   \n",
      "2020-01-03 08:00:00+00:00  galaxy_watch    III-IV      0.09600 -1.000000   \n",
      "2020-01-03 08:00:00+00:00  galaxy_watch      V-VI      0.07632 -1.000000   \n",
      "\n",
      "                               acc_y     acc_z  \n",
      "2020-01-03 08:00:00+00:00 -62.628226  4.996602  \n",
      "2020-01-03 08:00:00+00:00 -62.739436  5.184150  \n",
      "2020-01-03 08:00:00+00:00 -62.992483  5.020381  \n",
      "2020-01-03 08:00:00+00:00 -69.300000  5.000000  \n",
      "2020-01-03 08:00:00+00:00 -69.300000  5.000000  \n"
     ]
    }
   ],
   "source": [
    "processor = BaseSignalProcessor(data_path=\"../data/processed/cleaned_unified_dataset.parquet\")\n",
    "dataset = processor.load_data()\n",
    "print(dataset.head())"
   ]
  },
  {
   "cell_type": "code",
   "execution_count": 4,
   "metadata": {},
   "outputs": [],
   "source": [
    "import numpy as np"
   ]
  },
  {
   "cell_type": "code",
   "execution_count": 5,
   "metadata": {},
   "outputs": [],
   "source": [
    "def _robust_normalize(data: np.ndarray) -> np.ndarray:\n",
    "    \"\"\"Enhanced normalization with fallback\"\"\"\n",
    "    data = np.nan_to_num(data, nan=np.median(data))\n",
    "        \n",
    "    # Fallback to std if IQR is zero\n",
    "    q75, q25 = np.percentile(data, [75, 25])\n",
    "    iqr = q75 - q25\n",
    "    if iqr < 1e-6:\n",
    "        std = np.std(data) + 1e-6\n",
    "        normalized = (data - np.mean(data)) / std\n",
    "    else:\n",
    "        normalized = (data - np.median(data)) / iqr\n",
    "        \n",
    "    # Secondary clipping\n",
    "    return np.clip(normalized, -3, 3)\n",
    "\n",
    "# Compute and normalize accelerometer magnitude\n",
    "dataset['acc_mag'] = np.sqrt(dataset['acc_x']**2 + dataset['acc_y']**2 + dataset['acc_z']**2)\n",
    "dataset['acc_mag'] = _robust_normalize(dataset['acc_mag'].values)"
   ]
  },
  {
   "cell_type": "markdown",
   "metadata": {},
   "source": [
    "### Motion Artifact Detection"
   ]
  },
  {
   "cell_type": "code",
   "execution_count": 6,
   "metadata": {},
   "outputs": [
    {
     "name": "stdout",
     "output_type": "stream",
     "text": [
      "                              acc_x      acc_y     acc_z  motion_burst\n",
      "2020-01-03 08:00:00+00:00 -0.817685 -62.628226  4.996602           0.0\n",
      "2020-01-03 08:00:00+00:00 -0.973498 -62.739436  5.184150           0.0\n",
      "2020-01-03 08:00:00+00:00 -1.054134 -62.992483  5.020381           0.0\n",
      "2020-01-03 08:00:00+00:00 -1.000000 -69.300000  5.000000           0.0\n",
      "2020-01-03 08:00:00+00:00 -1.000000 -69.300000  5.000000           0.0\n"
     ]
    }
   ],
   "source": [
    "detector = MotionArtifactDetector()\n",
    "dataset = detector.detect_motion_bursts(dataset)\n",
    "print(dataset[['acc_x', 'acc_y', 'acc_z', 'motion_burst']].head())"
   ]
  },
  {
   "cell_type": "code",
   "execution_count": 7,
   "metadata": {},
   "outputs": [
    {
     "name": "stdout",
     "output_type": "stream",
     "text": [
      "Value counts of motion_burst:\n",
      "motion_burst\n",
      "0.000000    5311156\n",
      "0.208747        911\n",
      "0.225245        184\n",
      "0.359325        163\n",
      "0.120694        163\n",
      "             ...   \n",
      "0.085190          1\n",
      "0.178560          1\n",
      "0.097003          1\n",
      "0.293048          1\n",
      "0.154376          1\n",
      "Name: count, Length: 16875, dtype: int64\n",
      "Motion Burst Distribution:\n",
      "motion_burst\n",
      "0.000000    81.027554\n",
      "0.208747     0.013898\n",
      "0.225245     0.002807\n",
      "0.359325     0.002487\n",
      "0.120694     0.002487\n",
      "              ...    \n",
      "0.085190     0.000015\n",
      "0.178560     0.000015\n",
      "0.097003     0.000015\n",
      "0.293048     0.000015\n",
      "0.154376     0.000015\n",
      "Name: proportion, Length: 16875, dtype: float64\n"
     ]
    }
   ],
   "source": [
    "num_unique_motion_bursts = dataset['motion_burst'].nunique()\n",
    "motion_burst_counts = dataset['motion_burst'].value_counts()\n",
    "print(f\"Value counts of motion_burst:\\n{motion_burst_counts}\")\n",
    "\n",
    "# Check motion burst distribution\n",
    "motion_burst_counts = dataset['motion_burst'].value_counts(normalize=True) * 100\n",
    "print(f\"Motion Burst Distribution:\\n{motion_burst_counts}\")\n"
   ]
  },
  {
   "cell_type": "code",
   "execution_count": 8,
   "metadata": {},
   "outputs": [],
   "source": [
    "# import matplotlib.pyplot as plt\n",
    "# # Visualize results\n",
    "# plt.figure(figsize=(12, 6))\n",
    "# plt.plot(dataset['acc_mag'], label=\"Accelerometer Magnitude\")\n",
    "# plt.plot(dataset['motion_burst'] * dataset['acc_mag'].max(), label=\"Motion Bursts\", linestyle='--')\n",
    "# plt.legend()\n",
    "# plt.title(\"Motion Burst Detection\")\n",
    "# plt.show()"
   ]
  },
  {
   "cell_type": "markdown",
   "metadata": {},
   "source": [
    "### Adaptive Filtering for Motion Artifact Removal"
   ]
  },
  {
   "cell_type": "code",
   "execution_count": 9,
   "metadata": {},
   "outputs": [
    {
     "name": "stderr",
     "output_type": "stream",
     "text": [
      "INFO:root:Applying adaptive filtering... Input length: 6554753\n"
     ]
    },
    {
     "ename": "KeyboardInterrupt",
     "evalue": "",
     "output_type": "error",
     "traceback": [
      "\u001b[0;31m---------------------------------------------------------------------------\u001b[0m",
      "\u001b[0;31mKeyboardInterrupt\u001b[0m                         Traceback (most recent call last)",
      "Cell \u001b[0;32mIn[9], line 2\u001b[0m\n\u001b[1;32m      1\u001b[0m adaptive_filter \u001b[38;5;241m=\u001b[39m AdaptiveFilter()\n\u001b[0;32m----> 2\u001b[0m cleaned_bvp \u001b[38;5;241m=\u001b[39m \u001b[43madaptive_filter\u001b[49m\u001b[38;5;241;43m.\u001b[39;49m\u001b[43mapply_adaptive_filter\u001b[49m\u001b[43m(\u001b[49m\n\u001b[1;32m      3\u001b[0m \u001b[43m    \u001b[49m\u001b[43mnoisy_signal\u001b[49m\u001b[38;5;241;43m=\u001b[39;49m\u001b[43mdataset\u001b[49m\u001b[43m[\u001b[49m\u001b[38;5;124;43m'\u001b[39;49m\u001b[38;5;124;43mbvp\u001b[39;49m\u001b[38;5;124;43m'\u001b[39;49m\u001b[43m]\u001b[49m\u001b[38;5;241;43m.\u001b[39;49m\u001b[43mvalues\u001b[49m\u001b[43m,\u001b[49m\n\u001b[1;32m      4\u001b[0m \u001b[43m    \u001b[49m\u001b[43mreference_signal\u001b[49m\u001b[38;5;241;43m=\u001b[39;49m\u001b[43mdataset\u001b[49m\u001b[43m[\u001b[49m\u001b[38;5;124;43m'\u001b[39;49m\u001b[38;5;124;43macc_mag\u001b[39;49m\u001b[38;5;124;43m'\u001b[39;49m\u001b[43m]\u001b[49m\u001b[38;5;241;43m.\u001b[39;49m\u001b[43mvalues\u001b[49m\u001b[43m,\u001b[49m\n\u001b[1;32m      5\u001b[0m \u001b[43m    \u001b[49m\u001b[43mmotion_burst\u001b[49m\u001b[38;5;241;43m=\u001b[39;49m\u001b[43mdataset\u001b[49m\u001b[43m[\u001b[49m\u001b[38;5;124;43m'\u001b[39;49m\u001b[38;5;124;43mmotion_burst\u001b[39;49m\u001b[38;5;124;43m'\u001b[39;49m\u001b[43m]\u001b[49m\u001b[38;5;241;43m.\u001b[39;49m\u001b[43mvalues\u001b[49m\n\u001b[1;32m      6\u001b[0m \u001b[43m)\u001b[49m\n\u001b[1;32m      7\u001b[0m dataset[\u001b[38;5;124m'\u001b[39m\u001b[38;5;124mbvp_cleaned\u001b[39m\u001b[38;5;124m'\u001b[39m] \u001b[38;5;241m=\u001b[39m cleaned_bvp\n",
      "File \u001b[0;32m~/stress_detectin_mm/notebooks/../src/signal_processing/adaptive_filter.py:57\u001b[0m, in \u001b[0;36mAdaptiveFilter.apply_adaptive_filter\u001b[0;34m(self, noisy_signal, reference_signal, motion_burst)\u001b[0m\n\u001b[1;32m     55\u001b[0m \u001b[38;5;28;01mfor\u001b[39;00m _ \u001b[38;5;129;01min\u001b[39;00m \u001b[38;5;28mrange\u001b[39m(\u001b[38;5;241m10\u001b[39m):  \u001b[38;5;66;03m# Multiple operations per sample\u001b[39;00m\n\u001b[1;32m     56\u001b[0m     effective_order \u001b[38;5;241m=\u001b[39m \u001b[38;5;28mmin\u001b[39m(max_order, i)\n\u001b[0;32m---> 57\u001b[0m     \u001b[38;5;28;01mif\u001b[39;00m \u001b[43mnp\u001b[49m\u001b[38;5;241;43m.\u001b[39;49m\u001b[43many\u001b[49m\u001b[43m(\u001b[49m\u001b[43mnp\u001b[49m\u001b[38;5;241;43m.\u001b[39;49m\u001b[43misnan\u001b[49m\u001b[43m(\u001b[49m\u001b[43mreference_signal\u001b[49m\u001b[43m[\u001b[49m\u001b[43mi\u001b[49m\u001b[43m \u001b[49m\u001b[38;5;241;43m-\u001b[39;49m\u001b[43m \u001b[49m\u001b[43meffective_order\u001b[49m\u001b[43m:\u001b[49m\u001b[43mi\u001b[49m\u001b[43m]\u001b[49m\u001b[43m)\u001b[49m\u001b[43m)\u001b[49m:\n\u001b[1;32m     58\u001b[0m         filtered_signal[i] \u001b[38;5;241m=\u001b[39m noisy_signal[i]\n\u001b[1;32m     59\u001b[0m         \u001b[38;5;28;01mcontinue\u001b[39;00m\n",
      "File \u001b[0;32m~/anaconda3/envs/stress_monitor/lib/python3.10/site-packages/numpy/core/fromnumeric.py:2322\u001b[0m, in \u001b[0;36many\u001b[0;34m(a, axis, out, keepdims, where)\u001b[0m\n\u001b[1;32m   2317\u001b[0m \u001b[38;5;28;01mdef\u001b[39;00m\u001b[38;5;250m \u001b[39m\u001b[38;5;21m_any_dispatcher\u001b[39m(a, axis\u001b[38;5;241m=\u001b[39m\u001b[38;5;28;01mNone\u001b[39;00m, out\u001b[38;5;241m=\u001b[39m\u001b[38;5;28;01mNone\u001b[39;00m, keepdims\u001b[38;5;241m=\u001b[39m\u001b[38;5;28;01mNone\u001b[39;00m, \u001b[38;5;241m*\u001b[39m,\n\u001b[1;32m   2318\u001b[0m                     where\u001b[38;5;241m=\u001b[39mnp\u001b[38;5;241m.\u001b[39m_NoValue):\n\u001b[1;32m   2319\u001b[0m     \u001b[38;5;28;01mreturn\u001b[39;00m (a, where, out)\n\u001b[0;32m-> 2322\u001b[0m \u001b[38;5;129m@array_function_dispatch\u001b[39m(_any_dispatcher)\n\u001b[1;32m   2323\u001b[0m \u001b[38;5;28;01mdef\u001b[39;00m\u001b[38;5;250m \u001b[39m\u001b[38;5;21many\u001b[39m(a, axis\u001b[38;5;241m=\u001b[39m\u001b[38;5;28;01mNone\u001b[39;00m, out\u001b[38;5;241m=\u001b[39m\u001b[38;5;28;01mNone\u001b[39;00m, keepdims\u001b[38;5;241m=\u001b[39mnp\u001b[38;5;241m.\u001b[39m_NoValue, \u001b[38;5;241m*\u001b[39m, where\u001b[38;5;241m=\u001b[39mnp\u001b[38;5;241m.\u001b[39m_NoValue):\n\u001b[1;32m   2324\u001b[0m \u001b[38;5;250m    \u001b[39m\u001b[38;5;124;03m\"\"\"\u001b[39;00m\n\u001b[1;32m   2325\u001b[0m \u001b[38;5;124;03m    Test whether any array element along a given axis evaluates to True.\u001b[39;00m\n\u001b[1;32m   2326\u001b[0m \n\u001b[0;32m   (...)\u001b[0m\n\u001b[1;32m   2410\u001b[0m \n\u001b[1;32m   2411\u001b[0m \u001b[38;5;124;03m    \"\"\"\u001b[39;00m\n\u001b[1;32m   2412\u001b[0m     \u001b[38;5;28;01mreturn\u001b[39;00m _wrapreduction(a, np\u001b[38;5;241m.\u001b[39mlogical_or, \u001b[38;5;124m'\u001b[39m\u001b[38;5;124many\u001b[39m\u001b[38;5;124m'\u001b[39m, axis, \u001b[38;5;28;01mNone\u001b[39;00m, out,\n\u001b[1;32m   2413\u001b[0m                           keepdims\u001b[38;5;241m=\u001b[39mkeepdims, where\u001b[38;5;241m=\u001b[39mwhere)\n",
      "\u001b[0;31mKeyboardInterrupt\u001b[0m: "
     ]
    }
   ],
   "source": [
    "adaptive_filter = AdaptiveFilter()\n",
    "cleaned_bvp = adaptive_filter.apply_adaptive_filter(\n",
    "    noisy_signal=dataset['bvp'].values,\n",
    "    reference_signal=dataset['acc_mag'].values,\n",
    "    motion_burst=dataset['motion_burst'].values\n",
    ")\n",
    "dataset['bvp_cleaned'] = cleaned_bvp"
   ]
  },
  {
   "cell_type": "markdown",
   "metadata": {},
   "source": [
    "### Apply kalman filter"
   ]
  },
  {
   "cell_type": "code",
   "execution_count": 10,
   "metadata": {},
   "outputs": [],
   "source": [
    "kalman_filter = KalmanFilter()\n",
    "bvp_smoothed = kalman_filter.apply_kalman_filter(\n",
    "    signal=dataset['bvp_cleaned'].values,\n",
    "    motion_burst=dataset['motion_burst'].values\n",
    ")\n",
    "dataset['bvp_smoothed'] = bvp_smoothed"
   ]
  },
  {
   "cell_type": "markdown",
   "metadata": {},
   "source": [
    "### Wavelet Denoising"
   ]
  },
  {
   "cell_type": "code",
   "execution_count": 11,
   "metadata": {},
   "outputs": [],
   "source": [
    "# notebooks/phase3_signal_processing.ipynb\n",
    "\n",
    "wavelet_denoiser = WaveletDenoiser()\n",
    "denoised_bvp = wavelet_denoiser.apply_wavelet_denoising(dataset['bvp_smoothed'].values,motion_burst=dataset['motion_burst'].values,skin_tone=dataset['skin_tone'].iloc[0])\n",
    "\n",
    "# Verify lengths match before assignment\n",
    "assert len(denoised_bvp) == len(dataset), \"Denoised signal length mismatch\"\n",
    "\n",
    "dataset['bvp_denoised'] = denoised_bvp"
   ]
  },
  {
   "cell_type": "code",
   "execution_count": 12,
   "metadata": {},
   "outputs": [
    {
     "data": {
      "text/html": [
       "<div>\n",
       "<style scoped>\n",
       "    .dataframe tbody tr th:only-of-type {\n",
       "        vertical-align: middle;\n",
       "    }\n",
       "\n",
       "    .dataframe tbody tr th {\n",
       "        vertical-align: top;\n",
       "    }\n",
       "\n",
       "    .dataframe thead th {\n",
       "        text-align: right;\n",
       "    }\n",
       "</style>\n",
       "<table border=\"1\" class=\"dataframe\">\n",
       "  <thead>\n",
       "    <tr style=\"text-align: right;\">\n",
       "      <th></th>\n",
       "      <th>bvp</th>\n",
       "      <th>label</th>\n",
       "      <th>subject_id</th>\n",
       "      <th>dataset</th>\n",
       "      <th>device</th>\n",
       "      <th>skin_tone</th>\n",
       "      <th>noise_level</th>\n",
       "      <th>acc_x</th>\n",
       "      <th>acc_y</th>\n",
       "      <th>acc_z</th>\n",
       "      <th>acc_mag</th>\n",
       "      <th>acc_threshold</th>\n",
       "      <th>motion_burst</th>\n",
       "      <th>bvp_cleaned</th>\n",
       "      <th>bvp_smoothed</th>\n",
       "      <th>bvp_denoised</th>\n",
       "    </tr>\n",
       "  </thead>\n",
       "  <tbody>\n",
       "    <tr>\n",
       "      <th>2020-01-03 08:00:00+00:00</th>\n",
       "      <td>5.673109</td>\n",
       "      <td>0</td>\n",
       "      <td>2</td>\n",
       "      <td>physionet</td>\n",
       "      <td>apple_watch</td>\n",
       "      <td>V-VI</td>\n",
       "      <td>0.05088</td>\n",
       "      <td>-0.817685</td>\n",
       "      <td>-62.628226</td>\n",
       "      <td>4.996602</td>\n",
       "      <td>20.0</td>\n",
       "      <td>20.0</td>\n",
       "      <td>0.0</td>\n",
       "      <td>3.682249</td>\n",
       "      <td>3.682249</td>\n",
       "      <td>3.611029</td>\n",
       "    </tr>\n",
       "    <tr>\n",
       "      <th>2020-01-03 08:00:00+00:00</th>\n",
       "      <td>7.687833</td>\n",
       "      <td>0</td>\n",
       "      <td>2</td>\n",
       "      <td>physionet</td>\n",
       "      <td>apple_watch</td>\n",
       "      <td>I-II</td>\n",
       "      <td>0.07712</td>\n",
       "      <td>-0.973498</td>\n",
       "      <td>-62.739436</td>\n",
       "      <td>5.184150</td>\n",
       "      <td>20.0</td>\n",
       "      <td>20.0</td>\n",
       "      <td>0.0</td>\n",
       "      <td>3.682249</td>\n",
       "      <td>3.682249</td>\n",
       "      <td>3.615323</td>\n",
       "    </tr>\n",
       "    <tr>\n",
       "      <th>2020-01-03 08:00:00+00:00</th>\n",
       "      <td>1.509560</td>\n",
       "      <td>0</td>\n",
       "      <td>2</td>\n",
       "      <td>physionet</td>\n",
       "      <td>apple_watch</td>\n",
       "      <td>III-IV</td>\n",
       "      <td>0.06400</td>\n",
       "      <td>-1.054134</td>\n",
       "      <td>-62.992483</td>\n",
       "      <td>5.020381</td>\n",
       "      <td>20.0</td>\n",
       "      <td>20.0</td>\n",
       "      <td>0.0</td>\n",
       "      <td>3.682249</td>\n",
       "      <td>3.682249</td>\n",
       "      <td>3.626758</td>\n",
       "    </tr>\n",
       "    <tr>\n",
       "      <th>2020-01-03 08:00:00+00:00</th>\n",
       "      <td>12.999866</td>\n",
       "      <td>0</td>\n",
       "      <td>2</td>\n",
       "      <td>physionet</td>\n",
       "      <td>galaxy_watch</td>\n",
       "      <td>III-IV</td>\n",
       "      <td>0.09600</td>\n",
       "      <td>-1.000000</td>\n",
       "      <td>-69.300000</td>\n",
       "      <td>5.000000</td>\n",
       "      <td>20.0</td>\n",
       "      <td>20.0</td>\n",
       "      <td>0.0</td>\n",
       "      <td>3.682249</td>\n",
       "      <td>3.682249</td>\n",
       "      <td>3.651145</td>\n",
       "    </tr>\n",
       "    <tr>\n",
       "      <th>2020-01-03 08:00:00+00:00</th>\n",
       "      <td>20.798602</td>\n",
       "      <td>0</td>\n",
       "      <td>2</td>\n",
       "      <td>physionet</td>\n",
       "      <td>galaxy_watch</td>\n",
       "      <td>V-VI</td>\n",
       "      <td>0.07632</td>\n",
       "      <td>-1.000000</td>\n",
       "      <td>-69.300000</td>\n",
       "      <td>5.000000</td>\n",
       "      <td>20.0</td>\n",
       "      <td>20.0</td>\n",
       "      <td>0.0</td>\n",
       "      <td>3.682249</td>\n",
       "      <td>3.682249</td>\n",
       "      <td>3.681871</td>\n",
       "    </tr>\n",
       "  </tbody>\n",
       "</table>\n",
       "</div>"
      ],
      "text/plain": [
       "                                 bvp  label  subject_id    dataset  \\\n",
       "2020-01-03 08:00:00+00:00   5.673109      0           2  physionet   \n",
       "2020-01-03 08:00:00+00:00   7.687833      0           2  physionet   \n",
       "2020-01-03 08:00:00+00:00   1.509560      0           2  physionet   \n",
       "2020-01-03 08:00:00+00:00  12.999866      0           2  physionet   \n",
       "2020-01-03 08:00:00+00:00  20.798602      0           2  physionet   \n",
       "\n",
       "                                 device skin_tone  noise_level     acc_x  \\\n",
       "2020-01-03 08:00:00+00:00   apple_watch      V-VI      0.05088 -0.817685   \n",
       "2020-01-03 08:00:00+00:00   apple_watch      I-II      0.07712 -0.973498   \n",
       "2020-01-03 08:00:00+00:00   apple_watch    III-IV      0.06400 -1.054134   \n",
       "2020-01-03 08:00:00+00:00  galaxy_watch    III-IV      0.09600 -1.000000   \n",
       "2020-01-03 08:00:00+00:00  galaxy_watch      V-VI      0.07632 -1.000000   \n",
       "\n",
       "                               acc_y     acc_z  acc_mag  acc_threshold  \\\n",
       "2020-01-03 08:00:00+00:00 -62.628226  4.996602     20.0           20.0   \n",
       "2020-01-03 08:00:00+00:00 -62.739436  5.184150     20.0           20.0   \n",
       "2020-01-03 08:00:00+00:00 -62.992483  5.020381     20.0           20.0   \n",
       "2020-01-03 08:00:00+00:00 -69.300000  5.000000     20.0           20.0   \n",
       "2020-01-03 08:00:00+00:00 -69.300000  5.000000     20.0           20.0   \n",
       "\n",
       "                           motion_burst  bvp_cleaned  bvp_smoothed  \\\n",
       "2020-01-03 08:00:00+00:00           0.0     3.682249      3.682249   \n",
       "2020-01-03 08:00:00+00:00           0.0     3.682249      3.682249   \n",
       "2020-01-03 08:00:00+00:00           0.0     3.682249      3.682249   \n",
       "2020-01-03 08:00:00+00:00           0.0     3.682249      3.682249   \n",
       "2020-01-03 08:00:00+00:00           0.0     3.682249      3.682249   \n",
       "\n",
       "                           bvp_denoised  \n",
       "2020-01-03 08:00:00+00:00      3.611029  \n",
       "2020-01-03 08:00:00+00:00      3.615323  \n",
       "2020-01-03 08:00:00+00:00      3.626758  \n",
       "2020-01-03 08:00:00+00:00      3.651145  \n",
       "2020-01-03 08:00:00+00:00      3.681871  "
      ]
     },
     "execution_count": 12,
     "metadata": {},
     "output_type": "execute_result"
    }
   ],
   "source": [
    "dataset.head()"
   ]
  },
  {
   "cell_type": "code",
   "execution_count": 13,
   "metadata": {},
   "outputs": [
    {
     "data": {
      "image/png": "[encoded data removed]",
      "text/plain": [
       "<Figure size 1500x1000 with 3 Axes>"
      ]
     },
     "metadata": {},
     "output_type": "display_data"
    },
    {
     "name": "stdout",
     "output_type": "stream",
     "text": [
      "Statistical Properties:\n",
      "BVP Cleaned: Mean = 3.7827737450601444, Std = 58.55515208754918\n",
      "BVP Smoothed: Mean = 3.7827738533262525, Std = 34.67954771524223\n",
      "BVP Denoised: Mean = 3.7827738612512847, Std = 34.7550123996447\n"
     ]
    }
   ],
   "source": [
    "import matplotlib.pyplot as plt\n",
    "\n",
    "# Plot the signals\n",
    "plt.figure(figsize=(15, 10))\n",
    "\n",
    "plt.subplot(3, 1, 1)\n",
    "plt.plot(dataset.index, dataset['bvp_cleaned'], label='BVP Cleaned')\n",
    "plt.title('BVP Cleaned')\n",
    "plt.legend()\n",
    "\n",
    "plt.subplot(3, 1, 2)\n",
    "plt.plot(dataset.index, dataset['bvp_smoothed'], label='BVP Smoothed', color='orange')\n",
    "plt.title('BVP Smoothed')\n",
    "plt.legend()\n",
    "\n",
    "plt.subplot(3, 1, 3)\n",
    "plt.plot(dataset.index, dataset['bvp_denoised'], label='BVP Denoised', color='green')\n",
    "plt.title('BVP Denoised')\n",
    "plt.legend()\n",
    "\n",
    "plt.tight_layout()\n",
    "plt.show()\n",
    "\n",
    "# Statistical properties\n",
    "print(\"Statistical Properties:\")\n",
    "print(f\"BVP Cleaned: Mean = {dataset['bvp_cleaned'].mean()}, Std = {dataset['bvp_cleaned'].std()}\")\n",
    "print(f\"BVP Smoothed: Mean = {dataset['bvp_smoothed'].mean()}, Std = {dataset['bvp_smoothed'].std()}\")\n",
    "print(f\"BVP Denoised: Mean = {dataset['bvp_denoised'].mean()}, Std = {dataset['bvp_denoised'].std()}\")"
   ]
  },
  {
   "cell_type": "markdown",
   "metadata": {},
   "source": [
    "## Runnig the Pipeline"
   ]
  },
  {
   "cell_type": "code",
   "execution_count": 14,
   "metadata": {},
   "outputs": [],
   "source": [
    "import pandas as pd"
   ]
  },
  {
   "cell_type": "code",
   "execution_count": null,
   "metadata": {},
   "outputs": [
    {
     "name": "stderr",
     "output_type": "stream",
     "text": [
      "INFO:root:Applying adaptive filtering... Input length: 6554753\n"
     ]
    }
   ],
   "source": [
    "dataset_ = pd.read_parquet(\"../data/processed/cleaned_unified_dataset.parquet\")\n",
    "pipeline = SignalProcessingPipeline()\n",
    "processed_df = pipeline.process_signal(dataset_)"
   ]
  },
  {
   "cell_type": "code",
   "execution_count": null,
   "metadata": {},
   "outputs": [
    {
     "data": {
      "text/plain": [
       "Index(['bvp', 'label', 'subject_id', 'dataset', 'device', 'skin_tone',\n",
       "       'noise_level', 'acc_x', 'acc_y', 'acc_z', 'acc_mag', 'motion_burst',\n",
       "       'bvp_cleaned', 'bvp_smoothed', 'bvp_denoised'],\n",
       "      dtype='object')"
      ]
     },
     "execution_count": 16,
     "metadata": {},
     "output_type": "execute_result"
    }
   ],
   "source": [
    "dataset.columns"
   ]
  },
  {
   "cell_type": "code",
   "execution_count": null,
   "metadata": {},
   "outputs": [],
   "source": [
    "# Plot downsampled comparison\n",
    "downsample_factor = 100\n",
    "plt.figure(figsize=(12, 6))\n",
    "plt.plot(dataset['bvp'].values[::downsample_factor][:1000], \n",
    "         label='Original (Downsampled)', alpha=0.7)\n",
    "plt.plot(dataset['bvp_cleaned'].values[::downsample_factor][:1000], \n",
    "         label='Cleaned (Downsampled)')\n",
    "plt.title(\"Signal Comparison (0.3Hz Subsampling)\")\n",
    "plt.xlabel(\"Samples\")\n",
    "plt.ylabel(\"Amplitude\")\n",
    "plt.legend()\n",
    "plt.show()"
   ]
  },
  {
   "cell_type": "code",
   "execution_count": null,
   "metadata": {},
   "outputs": [],
   "source": []
  },
  {
   "cell_type": "markdown",
   "metadata": {},
   "source": [
    "### Signal Quality Metrics"
   ]
  },
  {
   "cell_type": "code",
   "execution_count": null,
   "metadata": {},
   "outputs": [],
   "source": [
    "from scipy.signal import find_peaks\n",
    "from fastdtw import fastdtw\n",
    "\n",
    "class SignalQualityMetrics:\n",
    "    def compute_snr(self, cleaned_signal: np.ndarray, original_signal: np.ndarray) -> float:\n",
    "        \"\"\"Compute SNR using original signal as reference\"\"\"\n",
    "        distance, path = fastdtw(original_signal, cleaned_signal)\n",
    "        aligned_cleaned = np.array([cleaned_signal[j] for i, j in path])\n",
    "        \n",
    "        min_length = min(len(original_signal), len(aligned_cleaned))\n",
    "        return 10 * np.log10(\n",
    "            np.mean(original_signal[:min_length]**2) / \n",
    "            (np.mean((aligned_cleaned[:min_length] - original_signal[:min_length])**2) + 1e-9)\n",
    "        )\n",
    "\n",
    "    def compute_artifact_density(self, motion_burst: np.ndarray) -> float:\n",
    "        return 100 * np.mean(motion_burst)"
   ]
  },
  {
   "cell_type": "code",
   "execution_count": null,
   "metadata": {},
   "outputs": [],
   "source": []
  },
  {
   "cell_type": "code",
   "execution_count": null,
   "metadata": {},
   "outputs": [
    {
     "name": "stdout",
     "output_type": "stream",
     "text": [
      "SNR: -67.13 dB, Artifact Density: 2.73%\n"
     ]
    }
   ],
   "source": [
    "# Compute metrics using original BVP as reference\n",
    "metrics_calculator = SignalQualityMetrics()\n",
    "snr = metrics_calculator.compute_snr(\n",
    "    processed_df['bvp_cleaned'].values,\n",
    "    processed_df['bvp'].values  # Use original signal as reference\n",
    ")\n",
    "artifact_density = metrics_calculator.compute_artifact_density(processed_df['motion_burst'].values)\n",
    "\n",
    "print(f\"SNR: {snr:.2f} dB, Artifact Density: {artifact_density:.2f}%\")"
   ]
  },
  {
   "cell_type": "markdown",
   "metadata": {},
   "source": [
    "## Saving cleaned data"
   ]
  },
  {
   "cell_type": "code",
   "execution_count": null,
   "metadata": {},
   "outputs": [
    {
     "name": "stdout",
     "output_type": "stream",
     "text": [
      "Cleaned dataset saved to ../data/cleaned_signal_dataset\n"
     ]
    }
   ],
   "source": [
    "pipeline.save_cleaned_dataset(dataset, \"../data/cleaned_signal_dataset\")"
   ]
  }
 ],
 "metadata": {
  "kernelspec": {
   "display_name": "stress_monitor",
   "language": "python",
   "name": "python3"
  },
  "language_info": {
   "codemirror_mode": {
    "name": "ipython",
    "version": 3
   },
   "file_extension": ".py",
   "mimetype": "text/x-python",
   "name": "python",
   "nbconvert_exporter": "python",
   "pygments_lexer": "ipython3",
   "version": "3.10.12"
  }
 },
 "nbformat": 4,
 "nbformat_minor": 2
}
