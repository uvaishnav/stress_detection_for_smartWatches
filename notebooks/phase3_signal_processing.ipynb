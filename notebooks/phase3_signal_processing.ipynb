{
 "cells": [
  {
   "cell_type": "code",
   "execution_count": 1,
   "metadata": {},
   "outputs": [],
   "source": [
    "import sys\n",
    "sys.path.append('../src')  # Add source directory to path"
   ]
  },
  {
   "cell_type": "code",
   "execution_count": 2,
   "metadata": {},
   "outputs": [],
   "source": [
    "from signal_processing.base_signal_processor import BaseSignalProcessor\n",
    "from signal_processing.motion_artifact_detector import MotionArtifactDetector\n",
    "from signal_processing.adaptive_filter import AdaptiveFilter\n",
    "from signal_processing.kalman_filter import KalmanFilter\n",
    "from signal_processing.wavelet_denoiser import WaveletDenoiser\n",
    "from signal_processing.pipeline import SignalProcessingPipeline"
   ]
  },
  {
   "cell_type": "markdown",
   "metadata": {},
   "source": [
    "### Loading Unified Data"
   ]
  },
  {
   "cell_type": "code",
   "execution_count": 3,
   "metadata": {},
   "outputs": [
    {
     "name": "stdout",
     "output_type": "stream",
     "text": [
      "Loading unified dataset...\n",
      "                                 bvp  label  subject_id    dataset  \\\n",
      "2020-01-03 08:00:00+00:00   5.673109      0           2  physionet   \n",
      "2020-01-03 08:00:00+00:00   7.687833      0           2  physionet   \n",
      "2020-01-03 08:00:00+00:00   1.509560      0           2  physionet   \n",
      "2020-01-03 08:00:00+00:00  12.999866      0           2  physionet   \n",
      "2020-01-03 08:00:00+00:00  20.798602      0           2  physionet   \n",
      "\n",
      "                                 device skin_tone  noise_level     acc_x  \\\n",
      "2020-01-03 08:00:00+00:00   apple_watch      V-VI      0.05088 -0.817685   \n",
      "2020-01-03 08:00:00+00:00   apple_watch      I-II      0.07712 -0.973498   \n",
      "2020-01-03 08:00:00+00:00   apple_watch    III-IV      0.06400 -1.054134   \n",
      "2020-01-03 08:00:00+00:00  galaxy_watch    III-IV      0.09600 -1.000000   \n",
      "2020-01-03 08:00:00+00:00  galaxy_watch      V-VI      0.07632 -1.000000   \n",
      "\n",
      "                               acc_y     acc_z  \n",
      "2020-01-03 08:00:00+00:00 -62.628226  4.996602  \n",
      "2020-01-03 08:00:00+00:00 -62.739436  5.184150  \n",
      "2020-01-03 08:00:00+00:00 -62.992483  5.020381  \n",
      "2020-01-03 08:00:00+00:00 -69.300000  5.000000  \n",
      "2020-01-03 08:00:00+00:00 -69.300000  5.000000  \n"
     ]
    }
   ],
   "source": [
    "processor = BaseSignalProcessor(data_path=\"../data/processed/cleaned_unified_dataset.parquet\")\n",
    "dataset = processor.load_data()\n",
    "print(dataset.head())"
   ]
  },
  {
   "cell_type": "code",
   "execution_count": 4,
   "metadata": {},
   "outputs": [],
   "source": [
    "import numpy as np"
   ]
  },
  {
   "cell_type": "code",
   "execution_count": 5,
   "metadata": {},
   "outputs": [],
   "source": [
    "dataset['acc_mag'] = np.sqrt(dataset['acc_x']**2 + dataset['acc_y']**2 + dataset['acc_z']**2)\n",
    "acc_median = dataset['acc_mag'].median()\n",
    "acc_iqr = dataset['acc_mag'].quantile(0.75) - dataset['acc_mag'].quantile(0.25)\n",
    "dataset['acc_mag'] = (dataset['acc_mag'] - acc_median) / (acc_iqr + 1e-6)"
   ]
  },
  {
   "cell_type": "markdown",
   "metadata": {},
   "source": [
    "### Motion Artifact Detection"
   ]
  },
  {
   "cell_type": "code",
   "execution_count": 6,
   "metadata": {},
   "outputs": [
    {
     "name": "stdout",
     "output_type": "stream",
     "text": [
      "                              acc_x      acc_y     acc_z  motion_burst\n",
      "2020-01-03 08:00:00+00:00 -0.817685 -62.628226  4.996602             0\n",
      "2020-01-03 08:00:00+00:00 -0.973498 -62.739436  5.184150             0\n",
      "2020-01-03 08:00:00+00:00 -1.054134 -62.992483  5.020381             0\n",
      "2020-01-03 08:00:00+00:00 -1.000000 -69.300000  5.000000             0\n",
      "2020-01-03 08:00:00+00:00 -1.000000 -69.300000  5.000000             0\n"
     ]
    }
   ],
   "source": [
    "detector = MotionArtifactDetector()\n",
    "dataset = detector.detect_motion_bursts(dataset)\n",
    "print(dataset[['acc_x', 'acc_y', 'acc_z', 'motion_burst']].head())"
   ]
  },
  {
   "cell_type": "code",
   "execution_count": 7,
   "metadata": {},
   "outputs": [
    {
     "name": "stdout",
     "output_type": "stream",
     "text": [
      "Value counts of motion_burst:\n",
      "motion_burst\n",
      "0    6375496\n",
      "1     179257\n",
      "Name: count, dtype: int64\n",
      "Motion Burst Distribution:\n",
      "motion_burst\n",
      "0    97.265236\n",
      "1     2.734764\n",
      "Name: proportion, dtype: float64\n"
     ]
    }
   ],
   "source": [
    "num_unique_motion_bursts = dataset['motion_burst'].nunique()\n",
    "motion_burst_counts = dataset['motion_burst'].value_counts()\n",
    "print(f\"Value counts of motion_burst:\\n{motion_burst_counts}\")\n",
    "\n",
    "# Check motion burst distribution\n",
    "motion_burst_counts = dataset['motion_burst'].value_counts(normalize=True) * 100\n",
    "print(f\"Motion Burst Distribution:\\n{motion_burst_counts}\")\n"
   ]
  },
  {
   "cell_type": "code",
   "execution_count": 8,
   "metadata": {},
   "outputs": [],
   "source": [
    "# import matplotlib.pyplot as plt\n",
    "# # Visualize results\n",
    "# plt.figure(figsize=(12, 6))\n",
    "# plt.plot(dataset['acc_mag'], label=\"Accelerometer Magnitude\")\n",
    "# plt.plot(dataset['motion_burst'] * dataset['acc_mag'].max(), label=\"Motion Bursts\", linestyle='--')\n",
    "# plt.legend()\n",
    "# plt.title(\"Motion Burst Detection\")\n",
    "# plt.show()"
   ]
  },
  {
   "cell_type": "markdown",
   "metadata": {},
   "source": [
    "### Adaptive Filtering for Motion Artifact Removal"
   ]
  },
  {
   "cell_type": "code",
   "execution_count": 9,
   "metadata": {},
   "outputs": [
    {
     "name": "stderr",
     "output_type": "stream",
     "text": [
      "INFO:root:Applying adaptive filtering... Input length: 6554753\n",
      "INFO:root:Coeffs: [ 4.57572337  9.86010545  9.80114278 12.90653487 16.86762856 17.2181383\n",
      " 16.47529186 16.8727668  22.92629302 28.69022201], Error: -19.529679070261405\n",
      "INFO:root:Coeffs: [ 62.23314772  18.66497175 -11.58390344 -55.75541244 -20.10030228\n",
      "  -7.77727303  -5.97172824  -2.58495721   7.19983958  30.84856957], Error: -12.492944891949772\n",
      "INFO:root:Coeffs: [ 49.91807681  14.74750909  -8.68202741 -42.99460504 -16.52148167\n",
      "  -7.11520472  -4.99246495  -2.45593731   5.30676299  23.32788126], Error: -12.353731558909942\n",
      "INFO:root:Coeffs: [42.03606521 23.35514796 21.90260356  4.82651008 14.87874764 16.52220396\n",
      "  9.28223444  6.64964094  1.89436532 16.62337695], Error: -179.3635735170215\n",
      "INFO:root:Coeffs: [ 8.51698085 -2.78670128 -0.09839128 -9.30363391  0.86173828  5.19979814\n",
      "  4.31344781  1.710864   -2.37407073  4.80229795], Error: -15.244954272535985\n",
      "INFO:root:Coeffs: [ 5.89209765 -2.01313091  1.5341043  -5.28852472  3.28702193  6.67979149\n",
      "  6.03173953  5.77707397  2.00129402  8.67216401], Error: 6.525266165357483\n",
      "INFO:root:Coeffs: [ 4.86786384 -3.24617068  0.2981539  -6.64712628  0.65609276  3.7399232\n",
      "  3.74417196  3.5878516   0.05172604  6.38860612], Error: -0.8961888268068368\n",
      "INFO:root:Coeffs: [ 5.87193056 -1.45965896  2.06054665 -4.79653333  2.24394083  3.76566004\n",
      "  3.93959083  5.28637858  2.94865906 10.51043835], Error: 17.774130606616417\n",
      "INFO:root:Coeffs: [ 1.04335717 -4.12299     0.23024028 -5.20972545  1.18978376  1.89553495\n",
      "  1.31567985  0.80130673 -0.81448404  7.93252523], Error: -15.153400602793562\n",
      "INFO:root:Coeffs: [ 4.48682325 -1.50177236  1.44827146 -1.34013399  2.57595574  2.55588242\n",
      "  3.45239457  5.53860171  6.72482262 20.02399026], Error: 30.87527847201474\n",
      "INFO:root:Coeffs: [ 9.5149352   2.13188042  5.59839399  1.08868613  3.99735474  4.11131034\n",
      "  7.93473628  8.39343548 10.7763069  24.62112654], Error: -50.05150774577318\n",
      "INFO:root:Coeffs: [-0.49935544 -6.67853639 -1.89174575 -4.79463175 -1.19211408 -1.13333455\n",
      "  2.32815929  2.1618118   3.89000611 17.44653148], Error: 36.42919615043207\n",
      "INFO:root:Coeffs: [ 1.14815713 -4.73281012  0.55818833 -2.72378866  0.55668674  0.30844501\n",
      "  2.91041097  1.06697226  2.3146769  16.8637513 ], Error: 11.79753917181147\n",
      "INFO:root:Coeffs: [ 2.13084469 -5.93503798 -0.9705681  -4.16252076 -3.55468163 -5.03322515\n",
      " -3.75687836 -5.43907823 -3.59691112  7.23004714], Error: -48.244976946344785\n",
      "INFO:root:Coeffs: [ 2.01751126 -3.75703672  1.22682555 -0.42897735  0.87268258 -0.05210011\n",
      "  2.07579503  0.45552092  1.72558522 14.96052964], Error: -0.061901127904159026\n",
      "INFO:root:Coeffs: [-2.12550888 -6.63534189  0.25927161 -0.11695866  1.3738373   0.07844957\n",
      "  3.29912845  0.5623894   2.33546558 16.46639183], Error: 1.948759903257157\n",
      "INFO:root:Coeffs: [-19.93057278 -21.92719939 -13.97985589 -11.97916723 -11.57578632\n",
      " -13.98905888 -10.4840252  -16.84632514 -16.36319322  -3.51291721], Error: 57.56916990039565\n",
      "INFO:root:Coeffs: [-3.28824917 -5.85912936  0.1178209   2.02751079  2.51899453  4.1793461\n",
      "  7.78789419  1.64034959  6.48653729 19.39105058], Error: 16.889500207328474\n",
      "INFO:root:Coeffs: [-8.57476387  0.85281891  6.79835774 11.22132621  7.46973726  0.53932749\n",
      " -0.44787326 -5.36640022 -4.69049917  4.91425946], Error: -5.6168583200526205\n",
      "INFO:root:Coeffs: [ 3.8189625   8.42895504  8.08394678  9.99035453  6.2927793   0.93505107\n",
      " -0.66414482 -5.30403413 -6.82486314 -3.69087202], Error: -5.600128426599105\n",
      "INFO:root:Coeffs: [ 2.86287641  6.09261069  6.96655061  9.64992144  5.96852621  0.92871008\n",
      " -0.83338065 -5.27704233 -7.5080305  -5.73064661], Error: -4.540279716387938\n",
      "INFO:root:Coeffs: [ 4.04796125  6.51339884  7.21315074  9.23830907  6.22238728  0.76475427\n",
      " -0.46473556 -4.63255379 -7.18543272 -5.90459655], Error: -7.352515243862449\n",
      "INFO:root:Coeffs: [ 4.46251254  6.5825847   6.96510138  9.0212429   5.72304095  1.08315877\n",
      " -0.67212345 -4.71346848 -7.1505254  -5.89222609], Error: 4.3051463647542345\n",
      "INFO:root:Coeffs: [ 4.92922904  6.91748429  7.14511931  9.24226995  5.89159282  1.54401435\n",
      " -0.76326567 -4.4096868  -6.31573275 -5.5707126 ], Error: 5.667515279925901\n",
      "INFO:root:Coeffs: [ 4.51603033  5.86087465  6.68753494  8.61024679  4.70619535  0.64518317\n",
      " -1.66525608 -4.95559059 -6.51693134 -6.53862471], Error: 0.4767250249852948\n",
      "INFO:root:Coeffs: [ 5.82534228  5.8872591   7.01013796  8.74191522  5.17902433  1.42785615\n",
      " -1.08952527 -3.74106411 -6.10440968 -5.71307949], Error: -6.838023367999353\n",
      "INFO:root:Coeffs: [ 5.29112741  5.39136651  6.62196526  7.68194843  4.04442466  1.14683565\n",
      " -1.17877214 -3.31008633 -5.67489351 -5.91987589], Error: 8.296216760326043\n",
      "INFO:root:Coeffs: [-1.17715708 -1.32749334  2.00949011  3.13676336  1.31658746  0.076263\n",
      "  1.45305796  1.67039312  2.95766144  3.79545129], Error: 13.385094066489458\n",
      "INFO:root:Coeffs: [ 0.05859426 -0.27206815  2.78703485  3.35824502  2.29810504  0.62398178\n",
      "  1.52921443  1.12106163  1.87362824  2.30928441], Error: -14.129919295111112\n",
      "INFO:root:Coeffs: [-5.19138044 -3.82108869 -1.08017     1.24419874  2.00023962  1.95917474\n",
      "  3.00369154  4.49835742  5.52947427  7.86213636], Error: -5.58764243553023\n",
      "INFO:root:Coeffs: [-3.47008252 -3.07610519 -0.19707243  1.29505293  2.16291822  1.80334687\n",
      "  2.37850201  2.87497139  3.78394418  5.94250562], Error: 11.868698925963372\n",
      "INFO:root:Coeffs: [-2.2307289  -1.78096543  0.70980376  1.81029638  2.61913129  1.99158747\n",
      "  2.57187554  2.37898274  2.98607039  4.45341653], Error: -4.806553154693769\n",
      "INFO:root:Coeffs: [-6.57846885 -4.19902067 -1.1838984   1.73210929  2.16507235  1.14612874\n",
      "  3.55610007  3.42462228  5.40407363  7.90979517], Error: 2.4174234313408247\n",
      "INFO:root:Coeffs: [-4.87875299 -2.45386816 -0.01060805  1.89454432  2.11821954  1.13742107\n",
      "  3.01252564  2.2144776   3.91835756  5.96720669], Error: 5.216569548784852\n",
      "INFO:root:Coeffs: [-2.93990332 -1.49380295  0.70067446  2.28779789  2.17919457  1.55221516\n",
      "  3.01443316  1.56757601  2.58071316  4.35688129], Error: -1.932498609107129\n",
      "INFO:root:Coeffs: [-2.17233527 -0.76214376  1.92621152  2.9266381   3.01364951  1.78858873\n",
      "  2.93454094  1.02978451  1.51294307  2.60048463], Error: 2.8641179947865707\n",
      "INFO:root:Coeffs: [-3.35820175  0.3984114   1.23758037  0.84330566  0.92894175  0.74000979\n",
      "  2.61878193  0.54772669  2.08041966  7.30730758], Error: -6.635931209198978\n",
      "INFO:root:Coeffs: [-4.14814176 -0.22288043  1.4250659   0.97060561  1.20515853  1.56776288\n",
      "  2.71953861  0.805728    3.87871383 11.37321589], Error: -17.82251075766322\n",
      "INFO:root:Coeffs: [-6.41112147  0.06890909  1.63712635  1.3342774   1.20303644  1.49986204\n",
      "  2.13642686 -0.90866517  3.10578088 11.4241632 ], Error: 6.626012584891364\n",
      "INFO:root:Coeffs: [-6.16703133  0.39561547  2.32384219  1.85645384  1.74423222  2.12828866\n",
      "  2.07484424 -1.4071936   2.20948995  9.85087222], Error: 3.0542417995703577\n",
      "INFO:root:Coeffs: [-6.68011373  0.18084227  1.98918623  1.57941764  1.70126794  1.99718226\n",
      "  1.76632816 -1.58410399  1.9677577  10.01774   ], Error: 28.732246913773885\n",
      "INFO:root:Coeffs: [-6.17570624  0.53425676  2.16750551  1.46645253  1.67880717  1.76173934\n",
      "  1.49409962 -1.90916532  1.03559211  9.42346238], Error: -9.181208387704423\n",
      "INFO:root:Coeffs: [-5.56073563  1.34891526  2.14934376  1.53199107  1.47557847  2.05018525\n",
      "  2.4405638  -0.3578739   2.68718725 10.99344179], Error: -4.459458807037689\n",
      "INFO:root:Coeffs: [-5.19992625  1.18850134  1.81770456  1.31865122  0.96045472  1.77496736\n",
      "  2.16547081 -0.41596797  2.70879902  9.65779916], Error: 0.12720182762914511\n",
      "INFO:root:Coeffs: [-4.52801762  1.20977064  1.88419216  1.63722979  0.86389236  1.30896461\n",
      "  1.90408784 -0.37012199  1.83449597  8.36559471], Error: 6.776812049762158\n",
      "INFO:root:Coeffs: [-4.57374936  0.21826615  1.38811678  1.36797517  1.06592193  0.77637057\n",
      "  1.69124298  0.50919148  3.13671181  9.74361436], Error: 2.643963441850219\n",
      "INFO:root:Coeffs: [-3.70214441e+00  3.37134390e-01  1.39269914e+00  1.24533922e+00\n",
      "  7.14418286e-01 -3.25811211e-03  1.02179719e+00  6.68810903e-01\n",
      "  2.49185596e+00  8.81405030e+00], Error: 1.2743655865344632\n",
      "INFO:root:Coeffs: [-4.92977513 -1.36048913  0.36273948  0.4477138   1.13491714  0.84874423\n",
      "  2.24560742  2.30728995  3.43229366 10.25542271], Error: 14.053072221517441\n",
      "INFO:root:Coeffs: [-4.41627519 -0.70167244  1.01698052  1.11597399  1.52352195  0.89403165\n",
      "  1.89411713  1.9467894   2.73861687 10.26657693], Error: 1.5005351137113694\n",
      "INFO:root:Coeffs: [-8.11186036e+00 -2.45378220e+00 -6.51993757e-03  1.91334392e+00\n",
      "  2.52274569e+00  1.64903775e+00  2.94979387e+00  2.21154399e+00\n",
      "  2.73287467e+00  1.18645094e+01], Error: 3.3708922487756228\n",
      "INFO:root:Coeffs: [-4.4082507   0.97380708  1.79170737  1.84386165  3.15134629  1.51799164\n",
      "  1.93009633  0.73806394 -0.64719824  8.71810229], Error: 3.5280534481038277\n",
      "INFO:root:Coeffs: [-1.86619444  3.02517876  2.56559783  2.27181856  2.68177935  1.85751689\n",
      "  1.70938404  0.28333206 -1.67695008  5.70908951], Error: -0.47877463803176123\n",
      "INFO:root:Coeffs: [-1.13943123  2.9408562   2.9302985   2.23273703  2.84094452  1.56126265\n",
      "  1.83964966 -0.32479503 -1.66725554  4.38238827], Error: 24.144442413442704\n",
      "INFO:root:Coeffs: [-2.90784877  1.47231509  1.44838474  0.96631058  1.09748059  0.62816663\n",
      "  0.35081603 -1.08915628 -2.43721483  2.9957406 ], Error: 1.088242306067738\n",
      "INFO:root:Coeffs: [-2.45452602  0.85980761  1.64798157  1.02956614  0.55722625  0.55683367\n",
      "  0.20307844 -0.98176503 -2.31614972  2.51966366], Error: -5.640217384742532\n",
      "INFO:root:Coeffs: [-2.39483704  0.76244509  1.41558807  0.85299846  0.27647907  0.64197815\n",
      "  0.14165242 -1.02425181 -2.31088394  2.25404467], Error: 5.203746974522027\n",
      "INFO:root:Coeffs: [-2.51098692  0.26018469  1.1953052   0.28960643 -0.16815589  0.36279058\n",
      " -0.10060783 -0.79912502 -2.39289156  1.76669598], Error: -32.107756748768416\n",
      "INFO:root:Coeffs: [-1.44882541  1.07064294  1.0738621   0.84042081 -0.33946408  0.94395448\n",
      "  0.1703221  -0.6747048  -2.53832282  1.594192  ], Error: -6.1149149694917355\n",
      "INFO:root:Coeffs: [-1.28744499  1.31913391  1.66593149  0.85631582 -0.04508355  0.72689662\n",
      "  0.80270352 -0.70999954 -2.69038129  1.40591827], Error: 2.5473748303233217\n",
      "INFO:root:Coeffs: [-1.22026513  1.1890479   1.21911633  0.79431698 -0.38353934  0.85145447\n",
      "  0.41390556 -0.54861602 -2.31034305  1.12581365], Error: 3.4756179691352402\n",
      "INFO:root:Coeffs: [-1.22360996  0.98875913  1.10027365  0.98065911 -0.40650624  0.72681261\n",
      "  0.08208372 -0.17024747 -1.55728535  1.71975602], Error: 0.06470274981334712\n",
      "INFO:root:Coeffs: [-1.17001409  0.97146627  1.48895033  1.19078858 -0.83754854  0.6143531\n",
      "  0.24987854 -0.41707846 -1.60819434  1.08559954], Error: -0.5659434576446306\n",
      "INFO:root:Coeffs: [-1.13652403  0.85152291  1.3922883   0.85863677 -0.74790371  0.50549866\n",
      "  0.21393606 -0.65608778 -1.65731956  0.79055969], Error: -0.1855736428986039\n",
      "INFO:root:Coeffs: [-0.88397584  0.61753132  0.50021535  0.69755885 -0.79136201  0.72944749\n",
      "  0.56950144 -0.30438939 -1.07294368  1.17506417], Error: -0.42412409159815023\n",
      "INFO:root:Coeffs: [-0.17982576  0.98595968  0.38622616  1.16857449 -0.80428589  0.57126173\n",
      "  0.70279859 -0.07399106 -1.12966106  0.84261542], Error: -0.8254245446541172\n"
     ]
    }
   ],
   "source": [
    "adaptive_filter = AdaptiveFilter()\n",
    "cleaned_bvp = adaptive_filter.apply_adaptive_filter(\n",
    "    noisy_signal=dataset['bvp'].values,\n",
    "    reference_signal=dataset['acc_mag'].values,\n",
    "    motion_burst=dataset['motion_burst'].values\n",
    ")\n",
    "dataset['bvp_cleaned'] = cleaned_bvp"
   ]
  },
  {
   "cell_type": "markdown",
   "metadata": {},
   "source": [
    "### Apply kalman filter"
   ]
  },
  {
   "cell_type": "code",
   "execution_count": 10,
   "metadata": {},
   "outputs": [],
   "source": [
    "kalman_filter = KalmanFilter()\n",
    "bvp_smoothed = kalman_filter.apply_kalman_filter(\n",
    "    signal=dataset['bvp_cleaned'].values,\n",
    "    motion_burst=dataset['motion_burst'].values\n",
    ")\n",
    "dataset['bvp_smoothed'] = bvp_smoothed"
   ]
  },
  {
   "cell_type": "markdown",
   "metadata": {},
   "source": [
    "### Wavelet Denoising"
   ]
  },
  {
   "cell_type": "code",
   "execution_count": 11,
   "metadata": {},
   "outputs": [],
   "source": [
    "# notebooks/phase3_signal_processing.ipynb\n",
    "\n",
    "wavelet_denoiser = WaveletDenoiser()\n",
    "denoised_bvp = wavelet_denoiser.apply_wavelet_denoising(dataset['bvp_smoothed'].values,motion_burst=dataset['motion_burst'].values)\n",
    "\n",
    "# Verify lengths match before assignment\n",
    "assert len(denoised_bvp) == len(dataset), \"Denoised signal length mismatch\"\n",
    "\n",
    "dataset['bvp_denoised'] = denoised_bvp"
   ]
  },
  {
   "cell_type": "code",
   "execution_count": 12,
   "metadata": {},
   "outputs": [
    {
     "data": {
      "text/html": [
       "<div>\n",
       "<style scoped>\n",
       "    .dataframe tbody tr th:only-of-type {\n",
       "        vertical-align: middle;\n",
       "    }\n",
       "\n",
       "    .dataframe tbody tr th {\n",
       "        vertical-align: top;\n",
       "    }\n",
       "\n",
       "    .dataframe thead th {\n",
       "        text-align: right;\n",
       "    }\n",
       "</style>\n",
       "<table border=\"1\" class=\"dataframe\">\n",
       "  <thead>\n",
       "    <tr style=\"text-align: right;\">\n",
       "      <th></th>\n",
       "      <th>bvp</th>\n",
       "      <th>label</th>\n",
       "      <th>subject_id</th>\n",
       "      <th>dataset</th>\n",
       "      <th>device</th>\n",
       "      <th>skin_tone</th>\n",
       "      <th>noise_level</th>\n",
       "      <th>acc_x</th>\n",
       "      <th>acc_y</th>\n",
       "      <th>acc_z</th>\n",
       "      <th>acc_mag</th>\n",
       "      <th>motion_burst</th>\n",
       "      <th>bvp_cleaned</th>\n",
       "      <th>bvp_smoothed</th>\n",
       "      <th>bvp_denoised</th>\n",
       "    </tr>\n",
       "  </thead>\n",
       "  <tbody>\n",
       "    <tr>\n",
       "      <th>2020-01-03 08:00:00+00:00</th>\n",
       "      <td>5.673109</td>\n",
       "      <td>0</td>\n",
       "      <td>2</td>\n",
       "      <td>physionet</td>\n",
       "      <td>apple_watch</td>\n",
       "      <td>V-VI</td>\n",
       "      <td>0.05088</td>\n",
       "      <td>-0.817685</td>\n",
       "      <td>-62.628226</td>\n",
       "      <td>4.996602</td>\n",
       "      <td>62.832549</td>\n",
       "      <td>0</td>\n",
       "      <td>0.0</td>\n",
       "      <td>0.0</td>\n",
       "      <td>0.008331</td>\n",
       "    </tr>\n",
       "    <tr>\n",
       "      <th>2020-01-03 08:00:00+00:00</th>\n",
       "      <td>7.687833</td>\n",
       "      <td>0</td>\n",
       "      <td>2</td>\n",
       "      <td>physionet</td>\n",
       "      <td>apple_watch</td>\n",
       "      <td>I-II</td>\n",
       "      <td>0.07712</td>\n",
       "      <td>-0.973498</td>\n",
       "      <td>-62.739436</td>\n",
       "      <td>5.184150</td>\n",
       "      <td>62.960781</td>\n",
       "      <td>0</td>\n",
       "      <td>0.0</td>\n",
       "      <td>0.0</td>\n",
       "      <td>-0.001601</td>\n",
       "    </tr>\n",
       "    <tr>\n",
       "      <th>2020-01-03 08:00:00+00:00</th>\n",
       "      <td>1.509560</td>\n",
       "      <td>0</td>\n",
       "      <td>2</td>\n",
       "      <td>physionet</td>\n",
       "      <td>apple_watch</td>\n",
       "      <td>III-IV</td>\n",
       "      <td>0.06400</td>\n",
       "      <td>-1.054134</td>\n",
       "      <td>-62.992483</td>\n",
       "      <td>5.020381</td>\n",
       "      <td>63.201016</td>\n",
       "      <td>0</td>\n",
       "      <td>0.0</td>\n",
       "      <td>0.0</td>\n",
       "      <td>0.003324</td>\n",
       "    </tr>\n",
       "    <tr>\n",
       "      <th>2020-01-03 08:00:00+00:00</th>\n",
       "      <td>12.999866</td>\n",
       "      <td>0</td>\n",
       "      <td>2</td>\n",
       "      <td>physionet</td>\n",
       "      <td>galaxy_watch</td>\n",
       "      <td>III-IV</td>\n",
       "      <td>0.09600</td>\n",
       "      <td>-1.000000</td>\n",
       "      <td>-69.300000</td>\n",
       "      <td>5.000000</td>\n",
       "      <td>69.487337</td>\n",
       "      <td>0</td>\n",
       "      <td>0.0</td>\n",
       "      <td>0.0</td>\n",
       "      <td>0.005598</td>\n",
       "    </tr>\n",
       "    <tr>\n",
       "      <th>2020-01-03 08:00:00+00:00</th>\n",
       "      <td>20.798602</td>\n",
       "      <td>0</td>\n",
       "      <td>2</td>\n",
       "      <td>physionet</td>\n",
       "      <td>galaxy_watch</td>\n",
       "      <td>V-VI</td>\n",
       "      <td>0.07632</td>\n",
       "      <td>-1.000000</td>\n",
       "      <td>-69.300000</td>\n",
       "      <td>5.000000</td>\n",
       "      <td>69.487337</td>\n",
       "      <td>0</td>\n",
       "      <td>0.0</td>\n",
       "      <td>0.0</td>\n",
       "      <td>-0.008465</td>\n",
       "    </tr>\n",
       "  </tbody>\n",
       "</table>\n",
       "</div>"
      ],
      "text/plain": [
       "                                 bvp  label  subject_id    dataset  \\\n",
       "2020-01-03 08:00:00+00:00   5.673109      0           2  physionet   \n",
       "2020-01-03 08:00:00+00:00   7.687833      0           2  physionet   \n",
       "2020-01-03 08:00:00+00:00   1.509560      0           2  physionet   \n",
       "2020-01-03 08:00:00+00:00  12.999866      0           2  physionet   \n",
       "2020-01-03 08:00:00+00:00  20.798602      0           2  physionet   \n",
       "\n",
       "                                 device skin_tone  noise_level     acc_x  \\\n",
       "2020-01-03 08:00:00+00:00   apple_watch      V-VI      0.05088 -0.817685   \n",
       "2020-01-03 08:00:00+00:00   apple_watch      I-II      0.07712 -0.973498   \n",
       "2020-01-03 08:00:00+00:00   apple_watch    III-IV      0.06400 -1.054134   \n",
       "2020-01-03 08:00:00+00:00  galaxy_watch    III-IV      0.09600 -1.000000   \n",
       "2020-01-03 08:00:00+00:00  galaxy_watch      V-VI      0.07632 -1.000000   \n",
       "\n",
       "                               acc_y     acc_z    acc_mag  motion_burst  \\\n",
       "2020-01-03 08:00:00+00:00 -62.628226  4.996602  62.832549             0   \n",
       "2020-01-03 08:00:00+00:00 -62.739436  5.184150  62.960781             0   \n",
       "2020-01-03 08:00:00+00:00 -62.992483  5.020381  63.201016             0   \n",
       "2020-01-03 08:00:00+00:00 -69.300000  5.000000  69.487337             0   \n",
       "2020-01-03 08:00:00+00:00 -69.300000  5.000000  69.487337             0   \n",
       "\n",
       "                           bvp_cleaned  bvp_smoothed  bvp_denoised  \n",
       "2020-01-03 08:00:00+00:00          0.0           0.0      0.008331  \n",
       "2020-01-03 08:00:00+00:00          0.0           0.0     -0.001601  \n",
       "2020-01-03 08:00:00+00:00          0.0           0.0      0.003324  \n",
       "2020-01-03 08:00:00+00:00          0.0           0.0      0.005598  \n",
       "2020-01-03 08:00:00+00:00          0.0           0.0     -0.008465  "
      ]
     },
     "execution_count": 12,
     "metadata": {},
     "output_type": "execute_result"
    }
   ],
   "source": [
    "dataset.head()"
   ]
  },
  {
   "cell_type": "code",
   "execution_count": 13,
   "metadata": {},
   "outputs": [
    {
     "data": {
      "image/png": "[encoded data removed]",
      "text/plain": [
       "<Figure size 1500x1000 with 3 Axes>"
      ]
     },
     "metadata": {},
     "output_type": "display_data"
    },
    {
     "name": "stdout",
     "output_type": "stream",
     "text": [
      "Statistical Properties:\n",
      "BVP Cleaned: Mean = 3.6165698237174073, Std = 12.31208774490368\n",
      "BVP Smoothed: Mean = 3.6108073590266696, Std = 10.41435238872683\n",
      "BVP Denoised: Mean = 3.608472320516038, Std = 10.413564064191805\n"
     ]
    }
   ],
   "source": [
    "import matplotlib.pyplot as plt\n",
    "\n",
    "# Plot the signals\n",
    "plt.figure(figsize=(15, 10))\n",
    "\n",
    "plt.subplot(3, 1, 1)\n",
    "plt.plot(dataset.index, dataset['bvp_cleaned'], label='BVP Cleaned')\n",
    "plt.title('BVP Cleaned')\n",
    "plt.legend()\n",
    "\n",
    "plt.subplot(3, 1, 2)\n",
    "plt.plot(dataset.index, dataset['bvp_smoothed'], label='BVP Smoothed', color='orange')\n",
    "plt.title('BVP Smoothed')\n",
    "plt.legend()\n",
    "\n",
    "plt.subplot(3, 1, 3)\n",
    "plt.plot(dataset.index, dataset['bvp_denoised'], label='BVP Denoised', color='green')\n",
    "plt.title('BVP Denoised')\n",
    "plt.legend()\n",
    "\n",
    "plt.tight_layout()\n",
    "plt.show()\n",
    "\n",
    "# Statistical properties\n",
    "print(\"Statistical Properties:\")\n",
    "print(f\"BVP Cleaned: Mean = {dataset['bvp_cleaned'].mean()}, Std = {dataset['bvp_cleaned'].std()}\")\n",
    "print(f\"BVP Smoothed: Mean = {dataset['bvp_smoothed'].mean()}, Std = {dataset['bvp_smoothed'].std()}\")\n",
    "print(f\"BVP Denoised: Mean = {dataset['bvp_denoised'].mean()}, Std = {dataset['bvp_denoised'].std()}\")"
   ]
  },
  {
   "cell_type": "markdown",
   "metadata": {},
   "source": [
    "## Runnig the Pipeline"
   ]
  },
  {
   "cell_type": "code",
   "execution_count": 14,
   "metadata": {},
   "outputs": [],
   "source": [
    "import pandas as pd"
   ]
  },
  {
   "cell_type": "code",
   "execution_count": 15,
   "metadata": {},
   "outputs": [
    {
     "name": "stderr",
     "output_type": "stream",
     "text": [
      "INFO:root:Applying adaptive filtering... Input length: 6554753\n",
      "INFO:root:Coeffs: [ 4.57572337  9.86010545  9.80114278 12.90653487 16.86762856 17.2181383\n",
      " 16.47529186 16.8727668  22.92629302 28.69022201], Error: -19.529679070261405\n",
      "INFO:root:Coeffs: [ 62.23314772  18.66497175 -11.58390344 -55.75541244 -20.10030228\n",
      "  -7.77727303  -5.97172824  -2.58495721   7.19983958  30.84856957], Error: -12.492944891949772\n",
      "INFO:root:Coeffs: [ 49.91807681  14.74750909  -8.68202741 -42.99460504 -16.52148167\n",
      "  -7.11520472  -4.99246495  -2.45593731   5.30676299  23.32788126], Error: -12.353731558909942\n",
      "INFO:root:Coeffs: [42.03606521 23.35514796 21.90260356  4.82651008 14.87874764 16.52220396\n",
      "  9.28223444  6.64964094  1.89436532 16.62337695], Error: -179.3635735170215\n",
      "INFO:root:Coeffs: [ 8.51698085 -2.78670128 -0.09839128 -9.30363391  0.86173828  5.19979814\n",
      "  4.31344781  1.710864   -2.37407073  4.80229795], Error: -15.244954272535985\n",
      "INFO:root:Coeffs: [ 5.89209765 -2.01313091  1.5341043  -5.28852472  3.28702193  6.67979149\n",
      "  6.03173953  5.77707397  2.00129402  8.67216401], Error: 6.525266165357483\n",
      "INFO:root:Coeffs: [ 4.86786384 -3.24617068  0.2981539  -6.64712628  0.65609276  3.7399232\n",
      "  3.74417196  3.5878516   0.05172604  6.38860612], Error: -0.8961888268068368\n",
      "INFO:root:Coeffs: [ 5.87193056 -1.45965896  2.06054665 -4.79653333  2.24394083  3.76566004\n",
      "  3.93959083  5.28637858  2.94865906 10.51043835], Error: 17.774130606616417\n",
      "INFO:root:Coeffs: [ 1.04335717 -4.12299     0.23024028 -5.20972545  1.18978376  1.89553495\n",
      "  1.31567985  0.80130673 -0.81448404  7.93252523], Error: -15.153400602793562\n",
      "INFO:root:Coeffs: [ 4.48682325 -1.50177236  1.44827146 -1.34013399  2.57595574  2.55588242\n",
      "  3.45239457  5.53860171  6.72482262 20.02399026], Error: 30.87527847201474\n",
      "INFO:root:Coeffs: [ 9.5149352   2.13188042  5.59839399  1.08868613  3.99735474  4.11131034\n",
      "  7.93473628  8.39343548 10.7763069  24.62112654], Error: -50.05150774577318\n",
      "INFO:root:Coeffs: [-0.49935544 -6.67853639 -1.89174575 -4.79463175 -1.19211408 -1.13333455\n",
      "  2.32815929  2.1618118   3.89000611 17.44653148], Error: 36.42919615043207\n",
      "INFO:root:Coeffs: [ 1.14815713 -4.73281012  0.55818833 -2.72378866  0.55668674  0.30844501\n",
      "  2.91041097  1.06697226  2.3146769  16.8637513 ], Error: 11.79753917181147\n",
      "INFO:root:Coeffs: [ 2.13084469 -5.93503798 -0.9705681  -4.16252076 -3.55468163 -5.03322515\n",
      " -3.75687836 -5.43907823 -3.59691112  7.23004714], Error: -48.244976946344785\n",
      "INFO:root:Coeffs: [ 2.01751126 -3.75703672  1.22682555 -0.42897735  0.87268258 -0.05210011\n",
      "  2.07579503  0.45552092  1.72558522 14.96052964], Error: -0.061901127904159026\n",
      "INFO:root:Coeffs: [-2.12550888 -6.63534189  0.25927161 -0.11695866  1.3738373   0.07844957\n",
      "  3.29912845  0.5623894   2.33546558 16.46639183], Error: 1.948759903257157\n",
      "INFO:root:Coeffs: [-19.93057278 -21.92719939 -13.97985589 -11.97916723 -11.57578632\n",
      " -13.98905888 -10.4840252  -16.84632514 -16.36319322  -3.51291721], Error: 57.56916990039565\n",
      "INFO:root:Coeffs: [-3.28824917 -5.85912936  0.1178209   2.02751079  2.51899453  4.1793461\n",
      "  7.78789419  1.64034959  6.48653729 19.39105058], Error: 16.889500207328474\n",
      "INFO:root:Coeffs: [-8.57476387  0.85281891  6.79835774 11.22132621  7.46973726  0.53932749\n",
      " -0.44787326 -5.36640022 -4.69049917  4.91425946], Error: -5.6168583200526205\n",
      "INFO:root:Coeffs: [ 3.8189625   8.42895504  8.08394678  9.99035453  6.2927793   0.93505107\n",
      " -0.66414482 -5.30403413 -6.82486314 -3.69087202], Error: -5.600128426599105\n",
      "INFO:root:Coeffs: [ 2.86287641  6.09261069  6.96655061  9.64992144  5.96852621  0.92871008\n",
      " -0.83338065 -5.27704233 -7.5080305  -5.73064661], Error: -4.540279716387938\n",
      "INFO:root:Coeffs: [ 4.04796125  6.51339884  7.21315074  9.23830907  6.22238728  0.76475427\n",
      " -0.46473556 -4.63255379 -7.18543272 -5.90459655], Error: -7.352515243862449\n",
      "INFO:root:Coeffs: [ 4.46251254  6.5825847   6.96510138  9.0212429   5.72304095  1.08315877\n",
      " -0.67212345 -4.71346848 -7.1505254  -5.89222609], Error: 4.3051463647542345\n",
      "INFO:root:Coeffs: [ 4.92922904  6.91748429  7.14511931  9.24226995  5.89159282  1.54401435\n",
      " -0.76326567 -4.4096868  -6.31573275 -5.5707126 ], Error: 5.667515279925901\n",
      "INFO:root:Coeffs: [ 4.51603033  5.86087465  6.68753494  8.61024679  4.70619535  0.64518317\n",
      " -1.66525608 -4.95559059 -6.51693134 -6.53862471], Error: 0.4767250249852948\n",
      "INFO:root:Coeffs: [ 5.82534228  5.8872591   7.01013796  8.74191522  5.17902433  1.42785615\n",
      " -1.08952527 -3.74106411 -6.10440968 -5.71307949], Error: -6.838023367999353\n",
      "INFO:root:Coeffs: [ 5.29112741  5.39136651  6.62196526  7.68194843  4.04442466  1.14683565\n",
      " -1.17877214 -3.31008633 -5.67489351 -5.91987589], Error: 8.296216760326043\n",
      "INFO:root:Coeffs: [-1.17715708 -1.32749334  2.00949011  3.13676336  1.31658746  0.076263\n",
      "  1.45305796  1.67039312  2.95766144  3.79545129], Error: 13.385094066489458\n",
      "INFO:root:Coeffs: [ 0.05859426 -0.27206815  2.78703485  3.35824502  2.29810504  0.62398178\n",
      "  1.52921443  1.12106163  1.87362824  2.30928441], Error: -14.129919295111112\n",
      "INFO:root:Coeffs: [-5.19138044 -3.82108869 -1.08017     1.24419874  2.00023962  1.95917474\n",
      "  3.00369154  4.49835742  5.52947427  7.86213636], Error: -5.58764243553023\n",
      "INFO:root:Coeffs: [-3.47008252 -3.07610519 -0.19707243  1.29505293  2.16291822  1.80334687\n",
      "  2.37850201  2.87497139  3.78394418  5.94250562], Error: 11.868698925963372\n",
      "INFO:root:Coeffs: [-2.2307289  -1.78096543  0.70980376  1.81029638  2.61913129  1.99158747\n",
      "  2.57187554  2.37898274  2.98607039  4.45341653], Error: -4.806553154693769\n",
      "INFO:root:Coeffs: [-6.57846885 -4.19902067 -1.1838984   1.73210929  2.16507235  1.14612874\n",
      "  3.55610007  3.42462228  5.40407363  7.90979517], Error: 2.4174234313408247\n",
      "INFO:root:Coeffs: [-4.87875299 -2.45386816 -0.01060805  1.89454432  2.11821954  1.13742107\n",
      "  3.01252564  2.2144776   3.91835756  5.96720669], Error: 5.216569548784852\n",
      "INFO:root:Coeffs: [-2.93990332 -1.49380295  0.70067446  2.28779789  2.17919457  1.55221516\n",
      "  3.01443316  1.56757601  2.58071316  4.35688129], Error: -1.932498609107129\n",
      "INFO:root:Coeffs: [-2.17233527 -0.76214376  1.92621152  2.9266381   3.01364951  1.78858873\n",
      "  2.93454094  1.02978451  1.51294307  2.60048463], Error: 2.8641179947865707\n",
      "INFO:root:Coeffs: [-3.35820175  0.3984114   1.23758037  0.84330566  0.92894175  0.74000979\n",
      "  2.61878193  0.54772669  2.08041966  7.30730758], Error: -6.635931209198978\n",
      "INFO:root:Coeffs: [-4.14814176 -0.22288043  1.4250659   0.97060561  1.20515853  1.56776288\n",
      "  2.71953861  0.805728    3.87871383 11.37321589], Error: -17.82251075766322\n",
      "INFO:root:Coeffs: [-6.41112147  0.06890909  1.63712635  1.3342774   1.20303644  1.49986204\n",
      "  2.13642686 -0.90866517  3.10578088 11.4241632 ], Error: 6.626012584891364\n",
      "INFO:root:Coeffs: [-6.16703133  0.39561547  2.32384219  1.85645384  1.74423222  2.12828866\n",
      "  2.07484424 -1.4071936   2.20948995  9.85087222], Error: 3.0542417995703577\n",
      "INFO:root:Coeffs: [-6.68011373  0.18084227  1.98918623  1.57941764  1.70126794  1.99718226\n",
      "  1.76632816 -1.58410399  1.9677577  10.01774   ], Error: 28.732246913773885\n",
      "INFO:root:Coeffs: [-6.17570624  0.53425676  2.16750551  1.46645253  1.67880717  1.76173934\n",
      "  1.49409962 -1.90916532  1.03559211  9.42346238], Error: -9.181208387704423\n",
      "INFO:root:Coeffs: [-5.56073563  1.34891526  2.14934376  1.53199107  1.47557847  2.05018525\n",
      "  2.4405638  -0.3578739   2.68718725 10.99344179], Error: -4.459458807037689\n",
      "INFO:root:Coeffs: [-5.19992625  1.18850134  1.81770456  1.31865122  0.96045472  1.77496736\n",
      "  2.16547081 -0.41596797  2.70879902  9.65779916], Error: 0.12720182762914511\n",
      "INFO:root:Coeffs: [-4.52801762  1.20977064  1.88419216  1.63722979  0.86389236  1.30896461\n",
      "  1.90408784 -0.37012199  1.83449597  8.36559471], Error: 6.776812049762158\n",
      "INFO:root:Coeffs: [-4.57374936  0.21826615  1.38811678  1.36797517  1.06592193  0.77637057\n",
      "  1.69124298  0.50919148  3.13671181  9.74361436], Error: 2.643963441850219\n",
      "INFO:root:Coeffs: [-3.70214441e+00  3.37134390e-01  1.39269914e+00  1.24533922e+00\n",
      "  7.14418286e-01 -3.25811211e-03  1.02179719e+00  6.68810903e-01\n",
      "  2.49185596e+00  8.81405030e+00], Error: 1.2743655865344632\n",
      "INFO:root:Coeffs: [-4.92977513 -1.36048913  0.36273948  0.4477138   1.13491714  0.84874423\n",
      "  2.24560742  2.30728995  3.43229366 10.25542271], Error: 14.053072221517441\n",
      "INFO:root:Coeffs: [-4.41627519 -0.70167244  1.01698052  1.11597399  1.52352195  0.89403165\n",
      "  1.89411713  1.9467894   2.73861687 10.26657693], Error: 1.5005351137113694\n",
      "INFO:root:Coeffs: [-8.11186036e+00 -2.45378220e+00 -6.51993757e-03  1.91334392e+00\n",
      "  2.52274569e+00  1.64903775e+00  2.94979387e+00  2.21154399e+00\n",
      "  2.73287467e+00  1.18645094e+01], Error: 3.3708922487756228\n",
      "INFO:root:Coeffs: [-4.4082507   0.97380708  1.79170737  1.84386165  3.15134629  1.51799164\n",
      "  1.93009633  0.73806394 -0.64719824  8.71810229], Error: 3.5280534481038277\n",
      "INFO:root:Coeffs: [-1.86619444  3.02517876  2.56559783  2.27181856  2.68177935  1.85751689\n",
      "  1.70938404  0.28333206 -1.67695008  5.70908951], Error: -0.47877463803176123\n",
      "INFO:root:Coeffs: [-1.13943123  2.9408562   2.9302985   2.23273703  2.84094452  1.56126265\n",
      "  1.83964966 -0.32479503 -1.66725554  4.38238827], Error: 24.144442413442704\n",
      "INFO:root:Coeffs: [-2.90784877  1.47231509  1.44838474  0.96631058  1.09748059  0.62816663\n",
      "  0.35081603 -1.08915628 -2.43721483  2.9957406 ], Error: 1.088242306067738\n",
      "INFO:root:Coeffs: [-2.45452602  0.85980761  1.64798157  1.02956614  0.55722625  0.55683367\n",
      "  0.20307844 -0.98176503 -2.31614972  2.51966366], Error: -5.640217384742532\n",
      "INFO:root:Coeffs: [-2.39483704  0.76244509  1.41558807  0.85299846  0.27647907  0.64197815\n",
      "  0.14165242 -1.02425181 -2.31088394  2.25404467], Error: 5.203746974522027\n",
      "INFO:root:Coeffs: [-2.51098692  0.26018469  1.1953052   0.28960643 -0.16815589  0.36279058\n",
      " -0.10060783 -0.79912502 -2.39289156  1.76669598], Error: -32.107756748768416\n",
      "INFO:root:Coeffs: [-1.44882541  1.07064294  1.0738621   0.84042081 -0.33946408  0.94395448\n",
      "  0.1703221  -0.6747048  -2.53832282  1.594192  ], Error: -6.1149149694917355\n",
      "INFO:root:Coeffs: [-1.28744499  1.31913391  1.66593149  0.85631582 -0.04508355  0.72689662\n",
      "  0.80270352 -0.70999954 -2.69038129  1.40591827], Error: 2.5473748303233217\n",
      "INFO:root:Coeffs: [-1.22026513  1.1890479   1.21911633  0.79431698 -0.38353934  0.85145447\n",
      "  0.41390556 -0.54861602 -2.31034305  1.12581365], Error: 3.4756179691352402\n",
      "INFO:root:Coeffs: [-1.22360996  0.98875913  1.10027365  0.98065911 -0.40650624  0.72681261\n",
      "  0.08208372 -0.17024747 -1.55728535  1.71975602], Error: 0.06470274981334712\n",
      "INFO:root:Coeffs: [-1.17001409  0.97146627  1.48895033  1.19078858 -0.83754854  0.6143531\n",
      "  0.24987854 -0.41707846 -1.60819434  1.08559954], Error: -0.5659434576446306\n",
      "INFO:root:Coeffs: [-1.13652403  0.85152291  1.3922883   0.85863677 -0.74790371  0.50549866\n",
      "  0.21393606 -0.65608778 -1.65731956  0.79055969], Error: -0.1855736428986039\n",
      "INFO:root:Coeffs: [-0.88397584  0.61753132  0.50021535  0.69755885 -0.79136201  0.72944749\n",
      "  0.56950144 -0.30438939 -1.07294368  1.17506417], Error: -0.42412409159815023\n",
      "INFO:root:Coeffs: [-0.17982576  0.98595968  0.38622616  1.16857449 -0.80428589  0.57126173\n",
      "  0.70279859 -0.07399106 -1.12966106  0.84261542], Error: -0.8254245446541172\n"
     ]
    }
   ],
   "source": [
    "dataset_ = pd.read_parquet(\"../data/processed/cleaned_unified_dataset.parquet\")\n",
    "pipeline = SignalProcessingPipeline()\n",
    "dataset = pipeline.process_signal(dataset_)"
   ]
  },
  {
   "cell_type": "code",
   "execution_count": 16,
   "metadata": {},
   "outputs": [
    {
     "data": {
      "text/plain": [
       "Index(['bvp', 'label', 'subject_id', 'dataset', 'device', 'skin_tone',\n",
       "       'noise_level', 'acc_x', 'acc_y', 'acc_z', 'acc_mag', 'motion_burst',\n",
       "       'bvp_cleaned'],\n",
       "      dtype='object')"
      ]
     },
     "execution_count": 16,
     "metadata": {},
     "output_type": "execute_result"
    }
   ],
   "source": [
    "dataset.columns"
   ]
  },
  {
   "cell_type": "markdown",
   "metadata": {},
   "source": [
    "### Signal Quality Metrics"
   ]
  },
  {
   "cell_type": "code",
   "execution_count": 17,
   "metadata": {},
   "outputs": [],
   "source": [
    "import numpy as np\n",
    "\n",
    "class SignalQualityMetrics:\n",
    "    def compute_snr(self, clean_signal: np.ndarray, noisy_signal: np.ndarray) -> float:\n",
    "        \"\"\"\n",
    "        Compute the Signal-to-Noise Ratio (SNR) between clean and noisy signals.\n",
    "        \n",
    "        Parameters:\n",
    "            clean_signal (np.ndarray): Clean signal.\n",
    "            noisy_signal (np.ndarray): Noisy signal.\n",
    "        \n",
    "        Returns:\n",
    "            float: SNR value in dB.\n",
    "        \"\"\"\n",
    "        clean_signal = np.nan_to_num(clean_signal, nan=1e-6)\n",
    "        noisy_signal = np.nan_to_num(noisy_signal, nan=1e-6)\n",
    "\n",
    "        mean_signal = np.mean(clean_signal)\n",
    "        std_noise = np.std(noisy_signal - clean_signal)\n",
    "        if std_noise == 0:\n",
    "            return np.inf\n",
    "        return 20 * np.log10(mean_signal / std_noise)\n",
    "\n",
    "    def compute_artifact_density(self, motion_bursts: np.ndarray) -> float:\n",
    "        \"\"\"\n",
    "        Compute the artifact density as a percentage of time contaminated by motion artifacts.\n",
    "        \n",
    "        Parameters:\n",
    "            motion_bursts (np.ndarray): Array indicating motion bursts (0 or 1).\n",
    "        \n",
    "        Returns:\n",
    "            float: Artifact density as a percentage.\n",
    "        \"\"\"\n",
    "        if len(motion_bursts) == 0:\n",
    "            return 0.0\n",
    "        return np.mean(motion_bursts) * 100"
   ]
  },
  {
   "cell_type": "code",
   "execution_count": 18,
   "metadata": {},
   "outputs": [
    {
     "name": "stdout",
     "output_type": "stream",
     "text": [
      "SNR: -18.45 dB, Artifact Density: 2.73%\n"
     ]
    }
   ],
   "source": [
    "# Compute metrics\n",
    "metrics_calculator = SignalQualityMetrics()\n",
    "snr = metrics_calculator.compute_snr(dataset['bvp_cleaned'], dataset['bvp'])\n",
    "artifact_density = metrics_calculator.compute_artifact_density(dataset['motion_burst'])\n",
    "\n",
    "print(f\"SNR: {snr:.2f} dB, Artifact Density: {artifact_density:.2f}%\")"
   ]
  },
  {
   "cell_type": "markdown",
   "metadata": {},
   "source": [
    "## Saving cleaned data"
   ]
  },
  {
   "cell_type": "code",
   "execution_count": 19,
   "metadata": {},
   "outputs": [
    {
     "name": "stdout",
     "output_type": "stream",
     "text": [
      "Cleaned dataset saved to ../data/cleaned_signal_dataset\n"
     ]
    }
   ],
   "source": [
    "pipeline.save_cleaned_dataset(dataset, \"../data/cleaned_signal_dataset\")"
   ]
  }
 ],
 "metadata": {
  "kernelspec": {
   "display_name": "stress_monitor",
   "language": "python",
   "name": "python3"
  },
  "language_info": {
   "codemirror_mode": {
    "name": "ipython",
    "version": 3
   },
   "file_extension": ".py",
   "mimetype": "text/x-python",
   "name": "python",
   "nbconvert_exporter": "python",
   "pygments_lexer": "ipython3",
   "version": "3.10.12"
  }
 },
 "nbformat": 4,
 "nbformat_minor": 2
}
